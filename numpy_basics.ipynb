{
 "cells": [
  {
   "cell_type": "markdown",
   "id": "87dc5d5f",
   "metadata": {},
   "source": [
    "# NumPy Basics: Stats, Normalization, and Smoothing\n",
    "\n",
    "**Goal:** use NumPy arrays to implement the math-y parts of wrangling.\n",
    "\n",
    "**You’ll do:**\n",
    "- Compute descriptive stats and handle NaNs\n",
    "- Normalize/standardize arrays\n",
    "- Apply simple smoothing for noisy signals"
   ]
  },
  {
   "cell_type": "markdown",
   "id": "c2a363c8",
   "metadata": {},
   "source": [
    "## 1. Setup\n",
    "- Import `numpy as np`.\n",
    "- Assume we start from either a Pandas column (`df['col'].to_numpy()`) or a raw array `x`."
   ]
  },
  {
   "cell_type": "markdown",
   "id": "f82acc65",
   "metadata": {},
   "source": [
    "## 2. Descriptive Stats with NaNs\n",
    "- `np.nanmean`, `np.nanmedian`, `np.nanstd`\n",
    "- Count NaNs: `np.isnan(x).sum()`\n",
    "- Replace NaNs: `np.nan_to_num(x, nan=...)`\n",
    "\n",
    "> Exercise: compute z-scores by hand: `z = (x - mean) / std` while ignoring NaNs."
   ]
  },
  {
   "cell_type": "markdown",
   "id": "bbdc4938",
   "metadata": {},
   "source": [
    "## 3. Normalization & Standardization\n",
    "- Min-max to [0,1]: `x_minmax = (x - x.min()) / (x.max() - x.min())`\n",
    "- Standard score: `x_std = (x - mu) / sigma`\n",
    "- Robust scale (median/MAD): `x_robust = (x - median) / MAD`\n",
    "\n",
    "> Exercise: compare standard vs robust scaling on a vector with a few extreme values."
   ]
  },
  {
   "cell_type": "markdown",
   "id": "47abe9e1",
   "metadata": {},
   "source": [
    "## 4. Clipping and Winsorizing (array-only)\n",
    "- Clip: `np.clip(x, a_min, a_max)` to bound absurd values before modeling\n",
    "- Winsorize idea: replace extreme tails with boundary values (manual with percentiles)\n",
    "\n",
    "> Exercise: compute p1 and p99 using `np.percentile` and winsorize manually."
   ]
  },
  {
   "cell_type": "markdown",
   "id": "5d4d554b",
   "metadata": {},
   "source": [
    "## 5. Smoothing / Noise Reduction\n",
    "- Simple moving average: use `np.convolve(x, np.ones(k)/k, mode='valid')`\n",
    "- Centered vs causal windows: pad appropriately if you need same-length output\n",
    "- Exponential moving average (concept): `y[t] = alpha*x[t] + (1-alpha)*y[t-1]`\n",
    "\n",
    "> Exercise: implement a function that returns both SMA and EMA for a series and compare."
   ]
  },
  {
   "cell_type": "markdown",
   "id": "0f960a92",
   "metadata": {},
   "source": [
    "## 6. Matrix Ops You’ll Actually Use\n",
    "- Broadcasting rules to combine vectors and columns\n",
    "- Fast distance computations: `(A[:,None] - B[None,:])**2` then `sum(axis=-1)`\n",
    "- Batch transforms: apply scaling to 2D arrays column-wise with broadcasting\n",
    "\n",
    "**Takeaways**\n",
    "- NumPy = low-level, predictable performance.\n",
    "- Handle NaNs explicitly or your stats lie.\n",
    "- Prefer robust scaling when outliers are expected."
   ]
  }
 ],
 "metadata": {},
 "nbformat": 4,
 "nbformat_minor": 5
}
