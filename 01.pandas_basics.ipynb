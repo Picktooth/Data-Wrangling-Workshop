{
 "cells": [
  {
   "cell_type": "markdown",
   "id": "0fb7f7bc",
   "metadata": {},
   "source": [
    "# Pandas Basics: Discovery → Cleaning → Quick Transforms\n",
    "\n",
    "**Goal:** practice fast exploratory wrangling on a messy tabular dataset using Pandas.\n",
    "\n",
    "**You’ll do:**\n",
    "- Inspect structure and types\n",
    "- Quantify missingness\n",
    "- Handle missing values (drop / fill / interpolate)\n",
    "- Lightweight transforms (casting, renaming, grouping, joining)\n",
    "- Quick validation & export"
   ]
  },
  {
   "cell_type": "markdown",
   "id": "89aada78",
   "metadata": {},
   "source": [
    "## 1. Setup\n",
    "---\n",
    "**Goal:** Prepare your environment and load a dataset into Pandas.\n",
    "\n",
    "**Steps:**\n",
    "1. Import libraries: `pandas as pd`, `numpy as np`\n",
    "2. Load your CSV into a DataFrame (`df`)"
   ]
  },
  {
   "cell_type": "code",
   "execution_count": 2,
   "id": "80abdcea",
   "metadata": {},
   "outputs": [],
   "source": [
    "import os, sys, glob\n",
    "import pandas as pd\n",
    "import numpy as np\n",
    "import matplotlib.pyplot as plt"
   ]
  },
  {
   "cell_type": "code",
   "execution_count": 3,
   "id": "ac002b9d",
   "metadata": {},
   "outputs": [],
   "source": [
    "# Set paths\n",
    "ROOT_ = os.getcwd()\n",
    "DATA_  = os.path.join(ROOT_, \"data\")\n",
    "\n",
    "# Obtain all CSV file paths in the data directory\n",
    "csv_paths = glob.glob(os.path.join(DATA_, \"*.csv*\"))\n",
    "assert len(csv_paths) > 0, f\"No CSV files found in {DATA_}\""
   ]
  },
  {
   "cell_type": "markdown",
   "id": "51bfe1ad",
   "metadata": {},
   "source": [
    "> 💡 \"Data should be transformed as far upstream as possible, and as far downstream as necessary\" - Matthew Roche, Microsoft\n",
    "\n",
    "> Use `pd.read_csv(..., dtype=..., parse_dates=...)` to enforce schema at load time.\n",
    "\n"
   ]
  },
  {
   "cell_type": "code",
   "execution_count": 4,
   "id": "4e102d96",
   "metadata": {},
   "outputs": [
    {
     "name": "stdout",
     "output_type": "stream",
     "text": [
      "     id;name;value\n",
      "0  1;user_1;-0.989\n",
      "1  2;user_2;-0.368\n",
      "2   3;user_3;1.288\n",
      "3   4;user_4;0.194\n",
      "4    5;user_5;0.92\n"
     ]
    }
   ],
   "source": [
    "# Load non-comma delimited data\n",
    "data_name = \"semicolon\"\n",
    "path = [path for path in csv_paths if data_name in path][0]\n",
    "df_semicolon_delim = pd.read_csv(path)\n",
    "print(df_semicolon_delim.head())"
   ]
  },
  {
   "cell_type": "code",
   "execution_count": 5,
   "id": "daad5027",
   "metadata": {},
   "outputs": [
    {
     "name": "stdout",
     "output_type": "stream",
     "text": [
      "          a   b\n",
      "0  1.074031  47\n",
      "1  0.392621   0\n",
      "2  0.005114  88\n",
      "3 -0.361767  75\n",
      "4 -1.230232  95\n"
     ]
    }
   ],
   "source": [
    "# Load compressed data\n",
    "data_name = \"compressed\"\n",
    "path = [path for path in csv_paths if data_name in path][0]\n",
    "df_compressed = pd.read_csv(path)   # Works because compression='infer' by default\n",
    "print(df_compressed.head())"
   ]
  },
  {
   "cell_type": "code",
   "execution_count": 6,
   "id": "ff69f4fb",
   "metadata": {},
   "outputs": [
    {
     "ename": "UnicodeDecodeError",
     "evalue": "'utf-8' codec can't decode byte 0xe1 in position 11: invalid continuation byte",
     "output_type": "error",
     "traceback": [
      "\u001b[1;31m---------------------------------------------------------------------------\u001b[0m",
      "\u001b[1;31mUnicodeDecodeError\u001b[0m                        Traceback (most recent call last)",
      "Cell \u001b[1;32mIn[6], line 4\u001b[0m\n\u001b[0;32m      2\u001b[0m data_name \u001b[38;5;241m=\u001b[39m \u001b[38;5;124m\"\u001b[39m\u001b[38;5;124mlatin1\u001b[39m\u001b[38;5;124m\"\u001b[39m\n\u001b[0;32m      3\u001b[0m path \u001b[38;5;241m=\u001b[39m [path \u001b[38;5;28;01mfor\u001b[39;00m path \u001b[38;5;129;01min\u001b[39;00m csv_paths \u001b[38;5;28;01mif\u001b[39;00m data_name \u001b[38;5;129;01min\u001b[39;00m path][\u001b[38;5;241m0\u001b[39m]\n\u001b[1;32m----> 4\u001b[0m df_encoded \u001b[38;5;241m=\u001b[39m \u001b[43mpd\u001b[49m\u001b[38;5;241;43m.\u001b[39;49m\u001b[43mread_csv\u001b[49m\u001b[43m(\u001b[49m\u001b[43mpath\u001b[49m\u001b[43m)\u001b[49m\n\u001b[0;32m      5\u001b[0m \u001b[38;5;28mprint\u001b[39m(df_encoded\u001b[38;5;241m.\u001b[39mhead())\n",
      "File \u001b[1;32mc:\\Users\\vjm\\Documents\\Code_Insiders\\Codebase\\miniconda3\\envs\\DSE511\\lib\\site-packages\\pandas\\io\\parsers\\readers.py:1026\u001b[0m, in \u001b[0;36mread_csv\u001b[1;34m(filepath_or_buffer, sep, delimiter, header, names, index_col, usecols, dtype, engine, converters, true_values, false_values, skipinitialspace, skiprows, skipfooter, nrows, na_values, keep_default_na, na_filter, verbose, skip_blank_lines, parse_dates, infer_datetime_format, keep_date_col, date_parser, date_format, dayfirst, cache_dates, iterator, chunksize, compression, thousands, decimal, lineterminator, quotechar, quoting, doublequote, escapechar, comment, encoding, encoding_errors, dialect, on_bad_lines, delim_whitespace, low_memory, memory_map, float_precision, storage_options, dtype_backend)\u001b[0m\n\u001b[0;32m   1013\u001b[0m kwds_defaults \u001b[38;5;241m=\u001b[39m _refine_defaults_read(\n\u001b[0;32m   1014\u001b[0m     dialect,\n\u001b[0;32m   1015\u001b[0m     delimiter,\n\u001b[1;32m   (...)\u001b[0m\n\u001b[0;32m   1022\u001b[0m     dtype_backend\u001b[38;5;241m=\u001b[39mdtype_backend,\n\u001b[0;32m   1023\u001b[0m )\n\u001b[0;32m   1024\u001b[0m kwds\u001b[38;5;241m.\u001b[39mupdate(kwds_defaults)\n\u001b[1;32m-> 1026\u001b[0m \u001b[38;5;28;01mreturn\u001b[39;00m \u001b[43m_read\u001b[49m\u001b[43m(\u001b[49m\u001b[43mfilepath_or_buffer\u001b[49m\u001b[43m,\u001b[49m\u001b[43m \u001b[49m\u001b[43mkwds\u001b[49m\u001b[43m)\u001b[49m\n",
      "File \u001b[1;32mc:\\Users\\vjm\\Documents\\Code_Insiders\\Codebase\\miniconda3\\envs\\DSE511\\lib\\site-packages\\pandas\\io\\parsers\\readers.py:620\u001b[0m, in \u001b[0;36m_read\u001b[1;34m(filepath_or_buffer, kwds)\u001b[0m\n\u001b[0;32m    617\u001b[0m _validate_names(kwds\u001b[38;5;241m.\u001b[39mget(\u001b[38;5;124m\"\u001b[39m\u001b[38;5;124mnames\u001b[39m\u001b[38;5;124m\"\u001b[39m, \u001b[38;5;28;01mNone\u001b[39;00m))\n\u001b[0;32m    619\u001b[0m \u001b[38;5;66;03m# Create the parser.\u001b[39;00m\n\u001b[1;32m--> 620\u001b[0m parser \u001b[38;5;241m=\u001b[39m TextFileReader(filepath_or_buffer, \u001b[38;5;241m*\u001b[39m\u001b[38;5;241m*\u001b[39mkwds)\n\u001b[0;32m    622\u001b[0m \u001b[38;5;28;01mif\u001b[39;00m chunksize \u001b[38;5;129;01mor\u001b[39;00m iterator:\n\u001b[0;32m    623\u001b[0m     \u001b[38;5;28;01mreturn\u001b[39;00m parser\n",
      "File \u001b[1;32mc:\\Users\\vjm\\Documents\\Code_Insiders\\Codebase\\miniconda3\\envs\\DSE511\\lib\\site-packages\\pandas\\io\\parsers\\readers.py:1620\u001b[0m, in \u001b[0;36mTextFileReader.__init__\u001b[1;34m(self, f, engine, **kwds)\u001b[0m\n\u001b[0;32m   1617\u001b[0m     \u001b[38;5;28mself\u001b[39m\u001b[38;5;241m.\u001b[39moptions[\u001b[38;5;124m\"\u001b[39m\u001b[38;5;124mhas_index_names\u001b[39m\u001b[38;5;124m\"\u001b[39m] \u001b[38;5;241m=\u001b[39m kwds[\u001b[38;5;124m\"\u001b[39m\u001b[38;5;124mhas_index_names\u001b[39m\u001b[38;5;124m\"\u001b[39m]\n\u001b[0;32m   1619\u001b[0m \u001b[38;5;28mself\u001b[39m\u001b[38;5;241m.\u001b[39mhandles: IOHandles \u001b[38;5;241m|\u001b[39m \u001b[38;5;28;01mNone\u001b[39;00m \u001b[38;5;241m=\u001b[39m \u001b[38;5;28;01mNone\u001b[39;00m\n\u001b[1;32m-> 1620\u001b[0m \u001b[38;5;28mself\u001b[39m\u001b[38;5;241m.\u001b[39m_engine \u001b[38;5;241m=\u001b[39m \u001b[38;5;28;43mself\u001b[39;49m\u001b[38;5;241;43m.\u001b[39;49m\u001b[43m_make_engine\u001b[49m\u001b[43m(\u001b[49m\u001b[43mf\u001b[49m\u001b[43m,\u001b[49m\u001b[43m \u001b[49m\u001b[38;5;28;43mself\u001b[39;49m\u001b[38;5;241;43m.\u001b[39;49m\u001b[43mengine\u001b[49m\u001b[43m)\u001b[49m\n",
      "File \u001b[1;32mc:\\Users\\vjm\\Documents\\Code_Insiders\\Codebase\\miniconda3\\envs\\DSE511\\lib\\site-packages\\pandas\\io\\parsers\\readers.py:1898\u001b[0m, in \u001b[0;36mTextFileReader._make_engine\u001b[1;34m(self, f, engine)\u001b[0m\n\u001b[0;32m   1895\u001b[0m     \u001b[38;5;28;01mraise\u001b[39;00m \u001b[38;5;167;01mValueError\u001b[39;00m(msg)\n\u001b[0;32m   1897\u001b[0m \u001b[38;5;28;01mtry\u001b[39;00m:\n\u001b[1;32m-> 1898\u001b[0m     \u001b[38;5;28;01mreturn\u001b[39;00m mapping[engine](f, \u001b[38;5;241m*\u001b[39m\u001b[38;5;241m*\u001b[39m\u001b[38;5;28mself\u001b[39m\u001b[38;5;241m.\u001b[39moptions)\n\u001b[0;32m   1899\u001b[0m \u001b[38;5;28;01mexcept\u001b[39;00m \u001b[38;5;167;01mException\u001b[39;00m:\n\u001b[0;32m   1900\u001b[0m     \u001b[38;5;28;01mif\u001b[39;00m \u001b[38;5;28mself\u001b[39m\u001b[38;5;241m.\u001b[39mhandles \u001b[38;5;129;01mis\u001b[39;00m \u001b[38;5;129;01mnot\u001b[39;00m \u001b[38;5;28;01mNone\u001b[39;00m:\n",
      "File \u001b[1;32mc:\\Users\\vjm\\Documents\\Code_Insiders\\Codebase\\miniconda3\\envs\\DSE511\\lib\\site-packages\\pandas\\io\\parsers\\c_parser_wrapper.py:93\u001b[0m, in \u001b[0;36mCParserWrapper.__init__\u001b[1;34m(self, src, **kwds)\u001b[0m\n\u001b[0;32m     90\u001b[0m \u001b[38;5;28;01mif\u001b[39;00m kwds[\u001b[38;5;124m\"\u001b[39m\u001b[38;5;124mdtype_backend\u001b[39m\u001b[38;5;124m\"\u001b[39m] \u001b[38;5;241m==\u001b[39m \u001b[38;5;124m\"\u001b[39m\u001b[38;5;124mpyarrow\u001b[39m\u001b[38;5;124m\"\u001b[39m:\n\u001b[0;32m     91\u001b[0m     \u001b[38;5;66;03m# Fail here loudly instead of in cython after reading\u001b[39;00m\n\u001b[0;32m     92\u001b[0m     import_optional_dependency(\u001b[38;5;124m\"\u001b[39m\u001b[38;5;124mpyarrow\u001b[39m\u001b[38;5;124m\"\u001b[39m)\n\u001b[1;32m---> 93\u001b[0m \u001b[38;5;28mself\u001b[39m\u001b[38;5;241m.\u001b[39m_reader \u001b[38;5;241m=\u001b[39m parsers\u001b[38;5;241m.\u001b[39mTextReader(src, \u001b[38;5;241m*\u001b[39m\u001b[38;5;241m*\u001b[39mkwds)\n\u001b[0;32m     95\u001b[0m \u001b[38;5;28mself\u001b[39m\u001b[38;5;241m.\u001b[39munnamed_cols \u001b[38;5;241m=\u001b[39m \u001b[38;5;28mself\u001b[39m\u001b[38;5;241m.\u001b[39m_reader\u001b[38;5;241m.\u001b[39munnamed_cols\n\u001b[0;32m     97\u001b[0m \u001b[38;5;66;03m# error: Cannot determine type of 'names'\u001b[39;00m\n",
      "File \u001b[1;32mpandas/_libs/parsers.pyx:574\u001b[0m, in \u001b[0;36mpandas._libs.parsers.TextReader.__cinit__\u001b[1;34m()\u001b[0m\n",
      "File \u001b[1;32mpandas/_libs/parsers.pyx:663\u001b[0m, in \u001b[0;36mpandas._libs.parsers.TextReader._get_header\u001b[1;34m()\u001b[0m\n",
      "File \u001b[1;32mpandas/_libs/parsers.pyx:874\u001b[0m, in \u001b[0;36mpandas._libs.parsers.TextReader._tokenize_rows\u001b[1;34m()\u001b[0m\n",
      "File \u001b[1;32mpandas/_libs/parsers.pyx:891\u001b[0m, in \u001b[0;36mpandas._libs.parsers.TextReader._check_tokenize_status\u001b[1;34m()\u001b[0m\n",
      "File \u001b[1;32mpandas/_libs/parsers.pyx:2053\u001b[0m, in \u001b[0;36mpandas._libs.parsers.raise_parser_error\u001b[1;34m()\u001b[0m\n",
      "\u001b[1;31mUnicodeDecodeError\u001b[0m: 'utf-8' codec can't decode byte 0xe1 in position 11: invalid continuation byte"
     ]
    }
   ],
   "source": [
    "# Load encoded data\n",
    "data_name = \"latin1\"\n",
    "path = [path for path in csv_paths if data_name in path][0]\n",
    "df_encoded = pd.read_csv(path)\n",
    "print(df_encoded.head())"
   ]
  },
  {
   "cell_type": "code",
   "execution_count": null,
   "id": "d9d1711f",
   "metadata": {},
   "outputs": [
    {
     "name": "stdout",
     "output_type": "stream",
     "text": [
      "  region quarter  revenue\n",
      "0    NaN      Q1     1200\n",
      "1     EU      Q2     1500\n"
     ]
    }
   ],
   "source": [
    "# Load data with metadata rows\n",
    "data_name = \"metadata\"\n",
    "path = [path for path in csv_paths if data_name in path][0]\n",
    "df_metadata = pd.read_csv(path, skiprows=2, header=0)\n",
    "print(df_metadata.head())"
   ]
  },
  {
   "cell_type": "code",
   "execution_count": null,
   "id": "03e430f9",
   "metadata": {},
   "outputs": [
    {
     "name": "stdout",
     "output_type": "stream",
     "text": [
      "         date      time  value\n",
      "0  31/12/2024  23:59:59      1\n",
      "1  01/01/2025  00:00:01      2\n",
      "2  15/02/2025  12:30:00      3\n"
     ]
    }
   ],
   "source": [
    "# Load European date data\n",
    "data_name = \"dates1\"\n",
    "path = [path for path in csv_paths if data_name in path][0]\n",
    "df_dayfirst = pd.read_csv(path)\n",
    "print(df_dayfirst.head())"
   ]
  },
  {
   "cell_type": "code",
   "execution_count": null,
   "id": "3001f3b4",
   "metadata": {},
   "outputs": [
    {
     "name": "stdout",
     "output_type": "stream",
     "text": [
      "         date      time  value\n",
      "0  31/12/2024  23:59:59      1\n",
      "1  01/01/2025  00:00:01      2\n",
      "2  15/02/2025  12:30:00      3\n",
      "3  12/31/2024  10:10:10      4\n",
      "4  01/15/2025  08:45:00      5\n",
      "5  02/28/2025  14:20:30      6\n"
     ]
    }
   ],
   "source": [
    "# Load EU/US date data\n",
    "data_name = \"dates2\"\n",
    "path = [path for path in csv_paths if data_name in path][0]\n",
    "df_dayfirst = pd.read_csv(path)\n",
    "print(df_dayfirst.head(10))\n",
    "\n",
    "# How do you decide if a number <= 12 is a month or a day?\n",
    "# Without another column identifying region or prior information, we can't parse these correctly on read."
   ]
  },
  {
   "cell_type": "markdown",
   "id": "dd0ede8f",
   "metadata": {},
   "source": [
    "## 2. Discovery & Data Exploration\n",
    "---\n",
    "**Goal:** Get a first impression of the dataset’s structure and contents.**\n",
    "\n",
    "**Core Functions:**\n",
    "- `df.head()`, `df.tail()` → peek at rows\n",
    "- `df.sample(5)` → random check\n",
    "- `df.shape`, `df.dtypes`, `df.columns` → structure overview\n",
    "- `df.info()` → column types + non-null counts\n",
    "- `df.describe(include='all')` → quick summary (numeric + categorical)\n",
    "- `df['col'].value_counts(dropna=False)` → frequency counts\n",
    "\n",
    "> 📝 *Exercise*: Identify 3 columns that look suspicious (weird types, strange ranges, inconsistent categories)."
   ]
  },
  {
   "cell_type": "code",
   "execution_count": 8,
   "id": "46fe36db",
   "metadata": {},
   "outputs": [],
   "source": [
    "\"\"\"Generate dataset to work with\"\"\"\n",
    "# Set random seed for reproducibility\n",
    "rng = np.random.default_rng(42)\n",
    "\n",
    "\n",
    "# Generate a dataset with 500 rows and 5 features\n",
    "n = 500\n",
    "age = rng.integers(15, 90, size=n).astype(float)  # numeric with some missing\n",
    "income = rng.normal(50000, 15000, size=n)         # numeric with outliers\n",
    "score = rng.uniform(0, 100, size=n)               # uniform, noise\n",
    "signup_date = pd.date_range(\"2020-01-01\", periods=n, freq=\"D\")  # datetime\n",
    "category = rng.choice([\"A\", \"B\", \"C\", None], size=n, p=[0.3, 0.3, 0.3, 0.1])  # categorical with NaNs\n",
    "\n",
    "# Introduce missing values in age and income\n",
    "age[rng.choice(n, 30, replace=False)] = np.nan\n",
    "income[rng.choice(n, 20, replace=False)] = np.nan\n",
    "\n",
    "# Add some extreme outliers in income\n",
    "income[rng.choice(n, 5, replace=False)] = rng.normal(200000, 10000, size=5)\n",
    "\n",
    "# Slightly corrupt score with negative and >100 values\n",
    "score[rng.choice(n, 10, replace=False)] = rng.choice([-10, 150], size=10)\n",
    "\n",
    "# Assemble DataFrame\n",
    "df = pd.DataFrame({\n",
    "    \"age\": age,\n",
    "    \"income\": income,\n",
    "    \"score\": score,\n",
    "    \"signup_date\": signup_date,\n",
    "    \"category\": category\n",
    "})\n",
    "\n",
    "# Save to CSV\n",
    "df.to_csv(f\"{DATA_}/trashy_dataset.csv\", index=False)\n",
    "\n",
    "# Load raw data\n",
    "df_trashy_dataset = pd.read_csv(f\"{DATA_}/trashy_dataset.csv\")\n"
   ]
  },
  {
   "cell_type": "code",
   "execution_count": 9,
   "id": "59d34eb7",
   "metadata": {},
   "outputs": [
    {
     "name": "stdout",
     "output_type": "stream",
     "text": [
      "[DataFrame Head]\n",
      "\n",
      "    age        income       score signup_date category\n",
      "0  21.0  48586.061686  150.000000  2020-01-01        B\n",
      "1  73.0  23634.074130   59.019538  2020-01-02        B\n",
      "2  64.0  27994.321319   84.943533  2020-01-03        B\n",
      "3  47.0  81938.706680    0.474139  2020-01-04        A\n",
      "4  47.0  30688.661281   85.336946  2020-01-05        B\n",
      "5  79.0  33548.216323   61.911909  2020-01-06        A\n",
      "6  21.0  77553.702925   16.274349  2020-01-07        A\n",
      "7  67.0  93576.007539   77.293739  2020-01-08        C\n",
      "8  30.0  32426.500568   85.549154  2020-01-09        B\n",
      "9  22.0  44476.265648   25.426348  2020-01-10        B\n",
      "\n",
      "[DataFrame Tail]\n",
      "\n",
      "      age        income      score signup_date category\n",
      "490  84.0  50874.114964  40.126496  2021-05-05        A\n",
      "491  80.0  58231.082283  32.393667  2021-05-06        A\n",
      "492  71.0  47184.935136  94.864550  2021-05-07        A\n",
      "493  60.0  54172.155897  57.686096  2021-05-08        A\n",
      "494  36.0  52371.786274  80.619097  2021-05-09        A\n",
      "495  45.0  61666.510836  17.034119  2021-05-10      NaN\n",
      "496  23.0  62105.124229  97.863414  2021-05-11        A\n",
      "497  43.0  25701.920084  49.863955  2021-05-12        A\n",
      "498  84.0           NaN  49.367208  2021-05-13        C\n",
      "499  46.0  65026.180965  97.088473  2021-05-14        B\n",
      "\n",
      "[Random Sample of n Rows]\n",
      "\n",
      "      age        income      score signup_date category\n",
      "218  48.0  49612.057281  79.445703  2020-08-06        B\n",
      "74   66.0           NaN  88.965642  2020-03-15        C\n",
      "83    NaN  77309.692365  21.214741  2020-03-24        C\n",
      "99   25.0  15630.657371  74.360037  2020-04-09        A\n",
      "344  82.0  79959.447961   6.964064  2020-12-10        A\n",
      "440  87.0  59376.278019  82.661148  2021-03-16        B\n",
      "203  67.0           NaN  32.153299  2020-07-22        B\n",
      "404  52.0  47869.951784  75.026599  2021-02-08      NaN\n",
      "460  69.0  46324.090232  58.577133  2021-04-05        A\n",
      "222  67.0  18905.248460  21.195461  2020-08-10        C\n"
     ]
    }
   ],
   "source": [
    "# Print head and tail of the DataFrame\n",
    "print(f\"[DataFrame Head]\\n\")\n",
    "print(df_trashy_dataset.head(10))\n",
    "\n",
    "print(f\"\\n[DataFrame Tail]\\n\")\n",
    "print(df_trashy_dataset.tail(10))\n",
    "\n",
    "# Obtain a random sample from the DataFrame\n",
    "print(f\"\\n[Random Sample of n Rows]\\n\")\n",
    "print(df_trashy_dataset.sample(10))"
   ]
  },
  {
   "cell_type": "code",
   "execution_count": 10,
   "id": "ffcf4b50",
   "metadata": {},
   "outputs": [
    {
     "name": "stdout",
     "output_type": "stream",
     "text": [
      "\n",
      "DataFrame Shape: (500, 5)\n",
      "DataFrame Columns: ['age', 'income', 'score', 'signup_date', 'category']\n",
      "\n",
      "DataFrame Dtypes:\n",
      " age            float64\n",
      "income         float64\n",
      "score          float64\n",
      "signup_date     object\n",
      "category        object\n",
      "dtype: object\n"
     ]
    }
   ],
   "source": [
    "# View DataFrame shape, columns, and data types\n",
    "print(f\"\\nDataFrame Shape: {df_trashy_dataset.shape}\")\n",
    "print(f\"DataFrame Columns: {df_trashy_dataset.columns.tolist()}\\n\")\n",
    "print(f\"DataFrame Dtypes:\\n {df_trashy_dataset.dtypes}\")"
   ]
  },
  {
   "cell_type": "code",
   "execution_count": 11,
   "id": "b0b5127d",
   "metadata": {},
   "outputs": [
    {
     "name": "stdout",
     "output_type": "stream",
     "text": [
      "\n",
      "[DataFrame Info]\n",
      "\n",
      "<class 'pandas.core.frame.DataFrame'>\n",
      "RangeIndex: 500 entries, 0 to 499\n",
      "Data columns (total 5 columns):\n",
      " #   Column       Non-Null Count  Dtype  \n",
      "---  ------       --------------  -----  \n",
      " 0   age          470 non-null    float64\n",
      " 1   income       480 non-null    float64\n",
      " 2   score        500 non-null    float64\n",
      " 3   signup_date  500 non-null    object \n",
      " 4   category     441 non-null    object \n",
      "dtypes: float64(3), object(2)\n",
      "memory usage: 19.7+ KB\n",
      "None\n"
     ]
    }
   ],
   "source": [
    "# Print DataFrame info to see data types and non-null counts\n",
    "print(f\"\\n[DataFrame Info]\\n\")\n",
    "print(df_trashy_dataset.info())"
   ]
  },
  {
   "cell_type": "code",
   "execution_count": 12,
   "id": "af0cd10a",
   "metadata": {},
   "outputs": [
    {
     "data": {
      "text/html": [
       "<div>\n",
       "<style scoped>\n",
       "    .dataframe tbody tr th:only-of-type {\n",
       "        vertical-align: middle;\n",
       "    }\n",
       "\n",
       "    .dataframe tbody tr th {\n",
       "        vertical-align: top;\n",
       "    }\n",
       "\n",
       "    .dataframe thead th {\n",
       "        text-align: right;\n",
       "    }\n",
       "</style>\n",
       "<table border=\"1\" class=\"dataframe\">\n",
       "  <thead>\n",
       "    <tr style=\"text-align: right;\">\n",
       "      <th></th>\n",
       "      <th>age</th>\n",
       "      <th>income</th>\n",
       "      <th>score</th>\n",
       "      <th>signup_date</th>\n",
       "      <th>category</th>\n",
       "    </tr>\n",
       "  </thead>\n",
       "  <tbody>\n",
       "    <tr>\n",
       "      <th>count</th>\n",
       "      <td>470.000000</td>\n",
       "      <td>480.000000</td>\n",
       "      <td>500.000000</td>\n",
       "      <td>500</td>\n",
       "      <td>441</td>\n",
       "    </tr>\n",
       "    <tr>\n",
       "      <th>unique</th>\n",
       "      <td>NaN</td>\n",
       "      <td>NaN</td>\n",
       "      <td>NaN</td>\n",
       "      <td>500</td>\n",
       "      <td>3</td>\n",
       "    </tr>\n",
       "    <tr>\n",
       "      <th>top</th>\n",
       "      <td>NaN</td>\n",
       "      <td>NaN</td>\n",
       "      <td>NaN</td>\n",
       "      <td>2021-05-14</td>\n",
       "      <td>B</td>\n",
       "    </tr>\n",
       "    <tr>\n",
       "      <th>freq</th>\n",
       "      <td>NaN</td>\n",
       "      <td>NaN</td>\n",
       "      <td>NaN</td>\n",
       "      <td>1</td>\n",
       "      <td>154</td>\n",
       "    </tr>\n",
       "    <tr>\n",
       "      <th>mean</th>\n",
       "      <td>52.453191</td>\n",
       "      <td>51417.370248</td>\n",
       "      <td>50.806593</td>\n",
       "      <td>NaN</td>\n",
       "      <td>NaN</td>\n",
       "    </tr>\n",
       "    <tr>\n",
       "      <th>std</th>\n",
       "      <td>21.437392</td>\n",
       "      <td>21421.247863</td>\n",
       "      <td>31.367464</td>\n",
       "      <td>NaN</td>\n",
       "      <td>NaN</td>\n",
       "    </tr>\n",
       "    <tr>\n",
       "      <th>min</th>\n",
       "      <td>15.000000</td>\n",
       "      <td>5532.067432</td>\n",
       "      <td>-10.000000</td>\n",
       "      <td>NaN</td>\n",
       "      <td>NaN</td>\n",
       "    </tr>\n",
       "    <tr>\n",
       "      <th>25%</th>\n",
       "      <td>35.000000</td>\n",
       "      <td>39906.180229</td>\n",
       "      <td>23.798984</td>\n",
       "      <td>NaN</td>\n",
       "      <td>NaN</td>\n",
       "    </tr>\n",
       "    <tr>\n",
       "      <th>50%</th>\n",
       "      <td>52.000000</td>\n",
       "      <td>50806.316997</td>\n",
       "      <td>49.458932</td>\n",
       "      <td>NaN</td>\n",
       "      <td>NaN</td>\n",
       "    </tr>\n",
       "    <tr>\n",
       "      <th>75%</th>\n",
       "      <td>71.000000</td>\n",
       "      <td>59994.056476</td>\n",
       "      <td>76.669091</td>\n",
       "      <td>NaN</td>\n",
       "      <td>NaN</td>\n",
       "    </tr>\n",
       "    <tr>\n",
       "      <th>max</th>\n",
       "      <td>89.000000</td>\n",
       "      <td>214623.552635</td>\n",
       "      <td>150.000000</td>\n",
       "      <td>NaN</td>\n",
       "      <td>NaN</td>\n",
       "    </tr>\n",
       "  </tbody>\n",
       "</table>\n",
       "</div>"
      ],
      "text/plain": [
       "               age         income       score signup_date category\n",
       "count   470.000000     480.000000  500.000000         500      441\n",
       "unique         NaN            NaN         NaN         500        3\n",
       "top            NaN            NaN         NaN  2021-05-14        B\n",
       "freq           NaN            NaN         NaN           1      154\n",
       "mean     52.453191   51417.370248   50.806593         NaN      NaN\n",
       "std      21.437392   21421.247863   31.367464         NaN      NaN\n",
       "min      15.000000    5532.067432  -10.000000         NaN      NaN\n",
       "25%      35.000000   39906.180229   23.798984         NaN      NaN\n",
       "50%      52.000000   50806.316997   49.458932         NaN      NaN\n",
       "75%      71.000000   59994.056476   76.669091         NaN      NaN\n",
       "max      89.000000  214623.552635  150.000000         NaN      NaN"
      ]
     },
     "execution_count": 12,
     "metadata": {},
     "output_type": "execute_result"
    }
   ],
   "source": [
    "# Generate summary statistics for all columns:\n",
    "# - For numeric columns:            count, mean, std, min, quartiles (25%, 50%, 75%), max\n",
    "# - For object/categorical columns: count, unique, top (most frequent), freq (frequency of top)\n",
    "# - For datetime columns:           count, unique, top, freq, first, last\n",
    "df_trashy_dataset.sort_values('signup_date').describe(include='all')"
   ]
  },
  {
   "cell_type": "code",
   "execution_count": 17,
   "id": "feb86b98",
   "metadata": {},
   "outputs": [
    {
     "name": "stdout",
     "output_type": "stream",
     "text": [
      "\n",
      "Unique values in 'category' column:\n",
      "category\n",
      "B      154\n",
      "A      145\n",
      "C      142\n",
      "NaN     59\n",
      "Name: count, dtype: int64\n"
     ]
    },
    {
     "data": {
      "image/png": "[encoded data removed]",
      "text/plain": [
       "<Figure size 600x400 with 1 Axes>"
      ]
     },
     "metadata": {},
     "output_type": "display_data"
    }
   ],
   "source": [
    "# Print unique values for a specific column and its value counts\n",
    "column = 'category'\n",
    "print(f\"\\nUnique values in 'category' column:\\n{df_trashy_dataset[column].value_counts(dropna=False)}\")\n",
    "\n",
    "# Visualized\n",
    "value_counts = df_trashy_dataset[column].value_counts(dropna=False)\n",
    "if df_trashy_dataset[column].dtype == 'object':\n",
    "    plt.figure(figsize=(6, 4))\n",
    "    ax = value_counts.plot(kind='bar')\n",
    "    plt.xlabel('Category')\n",
    "    plt.ylabel('Count')\n",
    "    plt.title('Value Counts for Category Column')\n",
    "    plt.show()\n",
    "else:\n",
    "    plt.figure(figsize=(6, 4))\n",
    "    ax = df_trashy_dataset[column].plot(kind='hist', bins=20, color='skyblue', edgecolor='black')\n",
    "    plt.xlabel(column.capitalize())\n",
    "    plt.ylabel('Frequency')\n",
    "    plt.title(f'Histogram of {column.capitalize()}')\n",
    "    plt.show()"
   ]
  },
  {
   "cell_type": "markdown",
   "id": "b1789c6a",
   "metadata": {},
   "source": [
    "## 3. Missing Values\n",
    "- Find: Count of missing values per column\n",
    "\n",
    "**Strategies**\n",
    "- Drop: `df.dropna(subset=[...])` when missingness is rare and random\n",
    "- Fill constants: `df.fillna({'col': 0})`\n",
    "- Fill by summary: mean/median/mode using `df['col'].fillna(df['col'].median())`\n",
    "- Time-aware: `df['col'].interpolate(method='time')`\n",
    "- Forward/backward fill for events/logs: `ffill`/`bfill`\n",
    "\n",
    "> Exercise: create a small table showing before/after missingness for 3 columns."
   ]
  },
  {
   "cell_type": "code",
   "execution_count": 14,
   "id": "20bf20b6",
   "metadata": {},
   "outputs": [
    {
     "data": {
      "image/png": "[encoded data removed]",
      "text/plain": [
       "<Figure size 800x500 with 1 Axes>"
      ]
     },
     "metadata": {},
     "output_type": "display_data"
    }
   ],
   "source": [
    "# Visualize missing values as a bar plot\n",
    "missing_counts = df_trashy_dataset.isna().sum().sort_values()\n",
    "plt.figure(figsize=(8, 5))\n",
    "ax = missing_counts.plot(kind='barh')\n",
    "plt.xlabel('Number of Missing Values')\n",
    "plt.title('Missing Values per Column (Lowest to Highest)')\n",
    "plt.show()"
   ]
  },
  {
   "cell_type": "code",
   "execution_count": 15,
   "id": "40fd5e57",
   "metadata": {},
   "outputs": [
    {
     "name": "stdout",
     "output_type": "stream",
     "text": [
      "New Shape: (400, 5)\n",
      "\n",
      "<class 'pandas.core.frame.DataFrame'>\n",
      "Index: 400 entries, 0 to 499\n",
      "Data columns (total 5 columns):\n",
      " #   Column       Non-Null Count  Dtype  \n",
      "---  ------       --------------  -----  \n",
      " 0   age          400 non-null    float64\n",
      " 1   income       400 non-null    float64\n",
      " 2   score        400 non-null    float64\n",
      " 3   signup_date  400 non-null    object \n",
      " 4   category     400 non-null    object \n",
      "dtypes: float64(3), object(2)\n",
      "memory usage: 18.8+ KB\n"
     ]
    }
   ],
   "source": [
    "# Use dropna() to get rid of rows where any column is NaN/Null\n",
    "df_dropna = df_trashy_dataset.copy()\n",
    "df_dropna = df_dropna.dropna(how='any')\n",
    "\n",
    "# View summary statistics\n",
    "print(f'New Shape: {df_dropna.shape}\\n')\n",
    "df_dropna.info()\n",
    "\n",
    "# Why do we still see indexes 0-499?"
   ]
  },
  {
   "cell_type": "code",
   "execution_count": null,
   "id": "589ffcd4",
   "metadata": {},
   "outputs": [
    {
     "name": "stdout",
     "output_type": "stream",
     "text": [
      "               age         income       score signup_date category\n",
      "count   470.000000     480.000000  500.000000         500      441\n",
      "unique         NaN            NaN         NaN         500        3\n",
      "top            NaN            NaN         NaN  2021-05-14        B\n",
      "freq           NaN            NaN         NaN           1      154\n",
      "mean     52.453191   51417.370248   50.806593         NaN      NaN\n",
      "std      21.437392   21421.247863   31.367464         NaN      NaN\n",
      "min      15.000000    5532.067432  -10.000000         NaN      NaN\n",
      "25%      35.000000   39906.180229   23.798984         NaN      NaN\n",
      "50%      52.000000   50806.316997   49.458932         NaN      NaN\n",
      "75%      71.000000   59994.056476   76.669091         NaN      NaN\n",
      "max      89.000000  214623.552635  150.000000         NaN      NaN\n",
      "\n",
      "<class 'pandas.core.frame.DataFrame'>\n",
      "RangeIndex: 500 entries, 0 to 499\n",
      "Data columns (total 5 columns):\n",
      " #   Column       Non-Null Count  Dtype  \n",
      "---  ------       --------------  -----  \n",
      " 0   age          500 non-null    float64\n",
      " 1   income       500 non-null    float64\n",
      " 2   score        500 non-null    float64\n",
      " 3   signup_date  500 non-null    object \n",
      " 4   category     500 non-null    object \n",
      "dtypes: float64(3), object(2)\n",
      "memory usage: 19.7+ KB\n"
     ]
    },
    {
     "data": {
      "text/plain": [
       "age                    52.0\n",
       "income         47869.951784\n",
       "score             75.026599\n",
       "signup_date      2021-02-08\n",
       "category                  B\n",
       "Name: 404, dtype: object"
      ]
     },
     "execution_count": 23,
     "metadata": {},
     "output_type": "execute_result"
    }
   ],
   "source": [
    "# Fill missing values with column means (numeric) or mode (categorical)\n",
    "df_fillna = df_trashy_dataset.copy()\n",
    "print(df_fillna.describe(include='all'), end='\\n\\n')\n",
    "\n",
    "\n",
    "# Criteria for filling in missing values for each column:\n",
    "for col in df_fillna.columns:\n",
    "    if df_fillna[col].dtype in [np.float64, np.int64]:          # Numeric Columns - Fill with Mean\n",
    "        mean_value = df_fillna[col].mean()\n",
    "        df_fillna[col] = df_fillna[col].fillna(mean_value)\n",
    "    elif df_fillna[col].dtype == 'object':                      # Categorical Columns - Fill with most frequent (mode)\n",
    "        mode_value = df_fillna[col].mode()[0]\n",
    "        df_fillna[col] = df_fillna[col].fillna(mode_value)\n",
    "    elif np.issubdtype(df_fillna[col].dtype, np.datetime64):    # Datetime Columns - Fill with most frequent (mode)\n",
    "        mode_value = df_fillna[col].mode()[0]\n",
    "        df_fillna[col] = df_fillna[col].fillna(mode_value)\n",
    "\n",
    "# View summary statistics\n",
    "df_fillna.info()\n",
    "\n",
    "# View DataFrame after filling missing values\n",
    "df_fillna.loc[404]\n"
   ]
  },
  {
   "cell_type": "markdown",
   "id": "4ef6d531",
   "metadata": {},
   "source": [
    "## 4. Quick Transformations\n",
    "- Types: `df['col'] = df['col'].astype('Int64')`, `to_datetime`, `to_numeric(errors='coerce')`\n",
    "- String cleanup: `str.strip()`, `str.lower()`, `str.replace()`\n",
    "- Column ops: `rename`, `assign`, `eval`\n",
    "- Split/merge: `merge`, `join`, `concat`\n",
    "- Grouped summaries: `groupby(...).agg({'col':['count','mean','median']})`\n",
    "\n",
    "> Exercise: normalize a numeric column to [0,1] using min-max, then compute per-group means."
   ]
  },
  {
   "cell_type": "code",
   "execution_count": null,
   "id": "edf0034f",
   "metadata": {},
   "outputs": [],
   "source": [
    "df_transformed = df_trashy_dataset.copy()\n",
    "\n"
   ]
  },
  {
   "cell_type": "markdown",
   "id": "3e25f252",
   "metadata": {},
   "source": [
    "## 5. Validations (cheap but effective)\n",
    "- Range checks: `(df['age']>=0) & (df['age']<=120)`\n",
    "- Cross-field rules: if `end_time` then `end_time>=start_time`\n",
    "- Uniqueness: `df['id'].is_unique`\n",
    "- Duplicates: `df.duplicated(subset=[...], keep=False)` then review\n",
    "\n",
    "> Exercise: write 3 boolean checks and compute the percent of rows failing each."
   ]
  },
  {
   "cell_type": "markdown",
   "id": "5d104d31",
   "metadata": {},
   "source": [
    "## 6. Export\n",
    "- Save a clean slice: `df.to_parquet('clean.parquet', index=False)` or `to_csv`\n",
    "- Document assumptions in a README cell or a sidecar `.md` file.\n",
    "\n",
    "**Takeaways**\n",
    "- Start with discovery, not modeling.\n",
    "- Make missingness visible first, then pick the simplest plausible fix.\n",
    "- Encode your checks so you can re-run them later."
   ]
  }
 ],
 "metadata": {
  "kernelspec": {
   "display_name": "DSE511",
   "language": "python",
   "name": "python3"
  },
  "language_info": {
   "codemirror_mode": {
    "name": "ipython",
    "version": 3
   },
   "file_extension": ".py",
   "mimetype": "text/x-python",
   "name": "python",
   "nbconvert_exporter": "python",
   "pygments_lexer": "ipython3",
   "version": "3.9.23"
  }
 },
 "nbformat": 4,
 "nbformat_minor": 5
}
